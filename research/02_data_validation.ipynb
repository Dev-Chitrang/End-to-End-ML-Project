{
 "cells": [
  {
   "cell_type": "code",
   "execution_count": 1,
   "id": "fba6f01d",
   "metadata": {},
   "outputs": [],
   "source": [
    "import os"
   ]
  },
  {
   "cell_type": "code",
   "execution_count": 2,
   "id": "7ac02f94",
   "metadata": {},
   "outputs": [
    {
     "data": {
      "text/plain": [
       "'d:\\\\Projects\\\\ML Projects\\\\End-to-End Wine Quality\\\\End-to-End-ML-Project\\\\research'"
      ]
     },
     "execution_count": 2,
     "metadata": {},
     "output_type": "execute_result"
    }
   ],
   "source": [
    "%pwd"
   ]
  },
  {
   "cell_type": "code",
   "execution_count": 3,
   "id": "451d6657",
   "metadata": {},
   "outputs": [],
   "source": [
    "os.chdir('../')"
   ]
  },
  {
   "cell_type": "code",
   "execution_count": 4,
   "id": "f413b977",
   "metadata": {},
   "outputs": [
    {
     "data": {
      "text/plain": [
       "'d:\\\\Projects\\\\ML Projects\\\\End-to-End Wine Quality\\\\End-to-End-ML-Project'"
      ]
     },
     "execution_count": 4,
     "metadata": {},
     "output_type": "execute_result"
    }
   ],
   "source": [
    "%pwd"
   ]
  },
  {
   "cell_type": "code",
   "execution_count": 5,
   "id": "20f2a8f2",
   "metadata": {},
   "outputs": [],
   "source": [
    "from dataclasses import dataclass\n",
    "from pathlib import Path\n",
    "\n",
    "@dataclass(frozen=True)\n",
    "class DataValidationConfig:\n",
    "    root_dir: Path\n",
    "    STATUS_FILE: str\n",
    "    unzip_data_dir: Path\n",
    "    all_schema: dict"
   ]
  },
  {
   "cell_type": "code",
   "execution_count": 6,
   "id": "3f3eb2cc",
   "metadata": {},
   "outputs": [],
   "source": [
    "from MLProject.constants import *\n",
    "from MLProject.utils.common import read_yaml, create_directories\n",
    "\n",
    "class ConfigurationManager:\n",
    "    def __init__(self, config_filepath=CONFIG_FILE_PATH, params_filepath=PARAMS_FILE_PATH, schema_filepath=SCHEMA_FILE_PATH):\n",
    "\n",
    "        self.config = read_yaml(config_filepath)\n",
    "        self.params = read_yaml(params_filepath)\n",
    "        self.schema = read_yaml(schema_filepath)\n",
    "\n",
    "        create_directories([self.config.artifacts_root])\n",
    "    \n",
    "    def get_data_validation_config(self) -> DataValidationConfig:\n",
    "        config = self.config.data_validation\n",
    "        schema = self.schema.COLUMNS\n",
    "\n",
    "        create_directories([config.root_dir])\n",
    "\n",
    "        data_validation_config = DataValidationConfig(\n",
    "            root_dir=config.root_dir,\n",
    "            STATUS_FILE=config.STATUS_FILE,\n",
    "            unzip_data_dir=config.unzip_data_dir,\n",
    "            all_schema=schema,\n",
    "        )\n",
    "        return data_validation_config"
   ]
  },
  {
   "cell_type": "code",
   "execution_count": 25,
   "id": "d63c8faa",
   "metadata": {},
   "outputs": [],
   "source": [
    "import pandas as pd\n",
    "\n",
    "class DataValidation:\n",
    "    def __init__(self, config: DataValidationConfig):\n",
    "        self.config = config\n",
    "\n",
    "    def validate(self) -> bool:\n",
    "        try:\n",
    "            validation_status = True\n",
    "            data = pd.read_csv(self.config.unzip_data_dir)\n",
    "\n",
    "            actual_columns = list(data.columns)\n",
    "            expected_columns = list(self.config.all_schema.keys())\n",
    "\n",
    "            if actual_columns != expected_columns:\n",
    "                validation_status = False\n",
    "                with open(self.config.STATUS_FILE, 'w') as f:\n",
    "                    f.write(\"Validation failed: Columns do not match expected schema.\\n\")\n",
    "                    f.write(f\"Expected columns: {expected_columns}\\n\")\n",
    "                    f.write(f\"Actual columns: {actual_columns}\\n\")\n",
    "                return validation_status\n",
    "\n",
    "            actual_dtypes = data.dtypes\n",
    "            expected_dtypes = list(self.config.all_schema.values())\n",
    "\n",
    "            mismatched_dtypes = []\n",
    "            for col, expected_dtype in zip(actual_columns, expected_dtypes):\n",
    "                if str(actual_dtypes[col]).lower() != expected_dtype.lower().replace(\" \", \"\"):\n",
    "                    mismatched_dtypes.append((col, str(actual_dtypes[col]), expected_dtype))\n",
    "\n",
    "            if mismatched_dtypes:\n",
    "                validation_status = False\n",
    "                with open(self.config.STATUS_FILE, 'w') as f:\n",
    "                    f.write(\"Validation failed: Data types do not match expected schema.\\n\")\n",
    "                    for col, actual, expected in mismatched_dtypes:\n",
    "                        f.write(f\"Column: {col}, Expected: {expected}, Actual: {actual}\\n\")\n",
    "                return validation_status\n",
    "\n",
    "            with open(self.config.STATUS_FILE, 'w') as f:\n",
    "                f.write(\"Validation passed: All columns and data types are valid.\\n\")\n",
    "\n",
    "            return validation_status\n",
    "\n",
    "        except Exception as e:\n",
    "            raise e\n"
   ]
  },
  {
   "cell_type": "code",
   "execution_count": 26,
   "id": "5cec4a19",
   "metadata": {},
   "outputs": [
    {
     "name": "stdout",
     "output_type": "stream",
     "text": [
      "[2025-04-25 17:37:06,310: INFO: common: yaml file: config\\config.yaml loaded successfully.]\n",
      "[2025-04-25 17:37:06,310: INFO: common: yaml file: params.yaml loaded successfully.]\n",
      "[2025-04-25 17:37:06,315: INFO: common: yaml file: schema.yaml loaded successfully.]\n",
      "[2025-04-25 17:37:06,317: INFO: common: Created directory at: artifacts]\n",
      "[2025-04-25 17:37:06,317: INFO: common: Created directory at: artifacts/data_validation]\n"
     ]
    }
   ],
   "source": [
    "try:\n",
    "    config = ConfigurationManager()\n",
    "    data_validation_config = config.get_data_validation_config()\n",
    "    data_validation = DataValidation(config=data_validation_config)\n",
    "    result = data_validation.validate()\n",
    "except Exception as e:\n",
    "    raise e\n"
   ]
  },
  {
   "cell_type": "code",
   "execution_count": null,
   "id": "ba3a8341",
   "metadata": {},
   "outputs": [],
   "source": []
  }
 ],
 "metadata": {
  "kernelspec": {
   "display_name": ".venv",
   "language": "python",
   "name": "python3"
  },
  "language_info": {
   "codemirror_mode": {
    "name": "ipython",
    "version": 3
   },
   "file_extension": ".py",
   "mimetype": "text/x-python",
   "name": "python",
   "nbconvert_exporter": "python",
   "pygments_lexer": "ipython3",
   "version": "3.10.12"
  }
 },
 "nbformat": 4,
 "nbformat_minor": 5
}
