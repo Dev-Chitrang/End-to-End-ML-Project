{
 "cells": [
  {
   "cell_type": "code",
   "execution_count": 1,
   "id": "cc795a32",
   "metadata": {},
   "outputs": [],
   "source": [
    "import os"
   ]
  },
  {
   "cell_type": "code",
   "execution_count": 2,
   "id": "20435b87",
   "metadata": {},
   "outputs": [],
   "source": [
    "os.chdir('../')"
   ]
  },
  {
   "cell_type": "code",
   "execution_count": 3,
   "id": "dcb203fb",
   "metadata": {},
   "outputs": [
    {
     "data": {
      "text/plain": [
       "'d:\\\\Projects\\\\ML Projects\\\\End-to-End Wine Quality\\\\End-to-End-ML-Project'"
      ]
     },
     "execution_count": 3,
     "metadata": {},
     "output_type": "execute_result"
    }
   ],
   "source": [
    "%pwd"
   ]
  },
  {
   "cell_type": "code",
   "execution_count": 4,
   "id": "c69ca65e",
   "metadata": {},
   "outputs": [],
   "source": [
    "from dataclasses import dataclass\n",
    "from pathlib import Path\n",
    "\n",
    "@dataclass(frozen=True)\n",
    "class DataTransformationConfig:\n",
    "    root_dir: Path\n",
    "    data_path: Path"
   ]
  },
  {
   "cell_type": "code",
   "execution_count": 5,
   "id": "6ff4cfac",
   "metadata": {},
   "outputs": [],
   "source": [
    "from MLProject.constants import *\n",
    "from MLProject.utils.common import read_yaml, create_directories\n",
    "\n",
    "class ConfigurationManager:\n",
    "    def __init__(self, config_filepath=CONFIG_FILE_PATH, params_filepath=PARAMS_FILE_PATH, schema_filepath=SCHEMA_FILE_PATH):\n",
    "\n",
    "        self.config = read_yaml(config_filepath)\n",
    "        self.params = read_yaml(params_filepath)\n",
    "        self.schema = read_yaml(schema_filepath)\n",
    "\n",
    "        create_directories([self.config.artifacts_root])\n",
    "    \n",
    "    def get_data_transformation_config(self) -> DataTransformationConfig:\n",
    "        config = self.config.data_transformation\n",
    "\n",
    "        create_directories([config.root_dir])\n",
    "\n",
    "        data_transformation_config = DataTransformationConfig(\n",
    "            root_dir=config.root_dir,\n",
    "            data_path=config.data_path\n",
    "        )\n",
    "        return data_transformation_config"
   ]
  },
  {
   "cell_type": "code",
   "execution_count": null,
   "id": "cd7f6938",
   "metadata": {},
   "outputs": [],
   "source": [
    "import os\n",
    "from MLProject import logger\n",
    "import pandas as pd\n",
    "from sklearn.preprocessing import StandardScaler\n",
    "from sklearn.model_selection import train_test_split\n",
    "\n",
    "class DataTransformation:\n",
    "    def __init__(self, config: DataTransformationConfig):\n",
    "        self.config = config\n",
    "        self.data = pd.read_csv(self.config.data_path)\n",
    "    \n",
    "    def Transform(self):\n",
    "        data = self.data\n",
    "        # print(data.columns.to_list())\n",
    "        # print(data['quality'].value_counts())\n",
    "        data['quality'] = data['quality'].apply(lambda y: 1 if y >= 6 else 0 )\n",
    "        # print(data.columns.to_list())\n",
    "        # print(data['quality'].value_counts())\n",
    "        data.drop(columns=['Id'], inplace=True)\n",
    "        \n",
    "        train, test = train_test_split(data, test_size=0.2, random_state=101)\n",
    "        train.to_csv(os.path.join(self.config.root_dir, \"train.csv\"), index=False)\n",
    "        test.to_csv(os.path.join(self.config.root_dir, \"test.csv\"), index=False)\n",
    "\n",
    "        logger.info(\"Standardized and split the data into training and testing sets.\")\n",
    "        logger.info(f\"Train shape: {train.shape}\")\n",
    "        logger.info(f\"Test shape: {test.shape}\")\n",
    "        \n",
    "        print(train.shape)\n",
    "        print(test.shape)\n"
   ]
  },
  {
   "cell_type": "code",
   "execution_count": 27,
   "id": "e3697197",
   "metadata": {},
   "outputs": [
    {
     "name": "stdout",
     "output_type": "stream",
     "text": [
      "[2025-04-27 14:02:18,349: INFO: common: yaml file: config\\config.yaml loaded successfully.]\n",
      "[2025-04-27 14:02:18,352: INFO: common: yaml file: params.yaml loaded successfully.]\n",
      "[2025-04-27 14:02:18,357: INFO: common: yaml file: schema.yaml loaded successfully.]\n",
      "[2025-04-27 14:02:18,357: INFO: common: Created directory at: artifacts]\n",
      "[2025-04-27 14:02:18,360: INFO: common: Created directory at: artifacts/data_transformation]\n",
      "['fixed acidity', 'volatile acidity', 'citric acid', 'residual sugar', 'chlorides', 'free sulfur dioxide', 'total sulfur dioxide', 'density', 'pH', 'sulphates', 'alcohol', 'quality', 'Id']\n",
      "quality\n",
      "5    483\n",
      "6    462\n",
      "7    143\n",
      "4     33\n",
      "8     16\n",
      "3      6\n",
      "Name: count, dtype: int64\n",
      "['fixed acidity', 'volatile acidity', 'citric acid', 'residual sugar', 'chlorides', 'free sulfur dioxide', 'total sulfur dioxide', 'density', 'pH', 'sulphates', 'alcohol', 'quality', 'Id']\n",
      "quality\n",
      "1    621\n",
      "0    522\n",
      "Name: count, dtype: int64\n",
      "[2025-04-27 14:02:18,390: INFO: 1320760964: Standardized and split the data into training and testing sets.]\n",
      "[2025-04-27 14:02:18,392: INFO: 1320760964: Train shape: (914, 12)]\n",
      "[2025-04-27 14:02:18,392: INFO: 1320760964: Test shape: (229, 12)]\n",
      "(914, 12)\n",
      "(229, 12)\n"
     ]
    }
   ],
   "source": [
    "try:\n",
    "    config = ConfigurationManager()\n",
    "    data_transform_config = config.get_data_transformation_config()\n",
    "    data_transformation = DataTransformation(config=data_transform_config)\n",
    "    data_transformation.Transform()\n",
    "except Exception as e:\n",
    "    raise e"
   ]
  },
  {
   "cell_type": "code",
   "execution_count": null,
   "id": "43159410",
   "metadata": {},
   "outputs": [],
   "source": []
  }
 ],
 "metadata": {
  "kernelspec": {
   "display_name": ".venv",
   "language": "python",
   "name": "python3"
  },
  "language_info": {
   "codemirror_mode": {
    "name": "ipython",
    "version": 3
   },
   "file_extension": ".py",
   "mimetype": "text/x-python",
   "name": "python",
   "nbconvert_exporter": "python",
   "pygments_lexer": "ipython3",
   "version": "3.10.12"
  }
 },
 "nbformat": 4,
 "nbformat_minor": 5
}
