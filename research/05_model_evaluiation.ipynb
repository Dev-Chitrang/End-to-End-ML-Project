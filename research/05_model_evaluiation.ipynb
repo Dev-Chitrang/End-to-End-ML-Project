{
 "cells": [
  {
   "cell_type": "code",
   "execution_count": 16,
   "id": "e4b724ce",
   "metadata": {},
   "outputs": [
    {
     "data": {
      "text/plain": [
       "'d:\\\\Projects\\\\ML Projects\\\\End-to-End Wine Quality\\\\End-to-End-ML-Project'"
      ]
     },
     "execution_count": 16,
     "metadata": {},
     "output_type": "execute_result"
    }
   ],
   "source": [
    "%pwd"
   ]
  },
  {
   "cell_type": "code",
   "execution_count": 3,
   "id": "b937ac35",
   "metadata": {},
   "outputs": [
    {
     "data": {
      "text/plain": [
       "'d:\\\\Projects\\\\ML Projects\\\\End-to-End Wine Quality\\\\End-to-End-ML-Project'"
      ]
     },
     "execution_count": 3,
     "metadata": {},
     "output_type": "execute_result"
    }
   ],
   "source": [
    "import os\n",
    "os.chdir('../')\n",
    "%pwd"
   ]
  },
  {
   "cell_type": "code",
   "execution_count": 25,
   "id": "34dde2f4",
   "metadata": {},
   "outputs": [],
   "source": [
    "from dataclasses import dataclass\n",
    "from pathlib import Path\n",
    "\n",
    "@dataclass(frozen=True)\n",
    "class ModelEvaluationConfig:\n",
    "    root_dir: Path\n",
    "    test_data_path: Path\n",
    "    model_path: Path\n",
    "    all_params: dict\n",
    "    metric_file_name: Path\n",
    "    target_column: str"
   ]
  },
  {
   "cell_type": "code",
   "execution_count": 26,
   "id": "f5946237",
   "metadata": {},
   "outputs": [],
   "source": [
    "from MLProject.constants import *\n",
    "from MLProject.utils.common import read_yaml, create_directories, save_json\n",
    "\n",
    "class ConfigurationManager:\n",
    "    def __init__(\n",
    "        self,\n",
    "        config_filepath = CONFIG_FILE_PATH,\n",
    "        params_filepath = PARAMS_FILE_PATH,\n",
    "        schema_filepath = SCHEMA_FILE_PATH):\n",
    "\n",
    "        self.config = read_yaml(config_filepath)\n",
    "        self.params = read_yaml(params_filepath)\n",
    "        self.schema = read_yaml(schema_filepath)\n",
    "\n",
    "        create_directories([self.config.artifacts_root])\n",
    "\n",
    "\n",
    "    \n",
    "    def get_model_evaluation_config(self) -> ModelEvaluationConfig:\n",
    "        config = self.config.model_evaluation\n",
    "        params = self.params.RandomForestClassifier\n",
    "        schema =  self.schema.TARGET_COLUMN\n",
    "\n",
    "        create_directories([config.root_dir])\n",
    "\n",
    "        model_evaluation_config = ModelEvaluationConfig(\n",
    "            root_dir=config.root_dir,\n",
    "            test_data_path=config.test_data_path,\n",
    "            model_path = config.model_path,\n",
    "            all_params=params,\n",
    "            metric_file_name = config.metric_file_name,\n",
    "            target_column = schema.name\n",
    "           \n",
    "        )\n",
    "\n",
    "        return model_evaluation_config"
   ]
  },
  {
   "cell_type": "code",
   "execution_count": null,
   "id": "f071a5f8",
   "metadata": {},
   "outputs": [],
   "source": [
    "import pandas as pd\n",
    "import os\n",
    "from pathlib import Path\n",
    "from MLProject import logger\n",
    "from MLProject.utils.common import save_json\n",
    "from sklearn.metrics import classification_report, confusion_matrix\n",
    "import joblib\n",
    "import numpy as np\n",
    "\n",
    "# Function to convert numpy types inside a dictionary\n",
    "def convert_numpy_in_dict(obj):\n",
    "    if isinstance(obj, dict):\n",
    "        return {k: convert_numpy_in_dict(v) for k, v in obj.items()}\n",
    "    elif isinstance(obj, list):\n",
    "        return [convert_numpy_in_dict(item) for item in obj]\n",
    "    elif isinstance(obj, (np.integer, np.int64)):\n",
    "        return int(obj)\n",
    "    elif isinstance(obj, (np.floating, np.float64)):\n",
    "        return float(obj)\n",
    "    elif isinstance(obj, np.bool_):\n",
    "        return bool(obj)\n",
    "    else:\n",
    "        return obj\n",
    "\n",
    "# Model Evaluation Class\n",
    "class ModelEvaluation:\n",
    "    def __init__(self, config: ModelEvaluationConfig):\n",
    "        self.config = config\n",
    "    \n",
    "    def eval_model(self):\n",
    "        model = joblib.load(self.config.model_path)\n",
    "        test_data = pd.read_csv(self.config.test_data_path)\n",
    "        \n",
    "        test_x = test_data.drop([self.config.target_column], axis=1)\n",
    "        test_y = test_data[[self.config.target_column]]\n",
    "\n",
    "        pred_y = model.predict(test_x)\n",
    "\n",
    "        # Get structured classification report\n",
    "        report = classification_report(test_y, pred_y, output_dict=True)\n",
    "\n",
    "        # Get confusion matrix\n",
    "        matrix = confusion_matrix(test_y, pred_y)\n",
    "\n",
    "        scores = {\n",
    "            \"classification_report\": report,\n",
    "            \"confusion_matrix\": {\n",
    "                \"labels\": list(model.classes_),\n",
    "                \"matrix\": matrix.tolist()\n",
    "            }\n",
    "        }\n",
    "\n",
    "        # Convert numpy types BEFORE saving\n",
    "        clean_scores = convert_numpy_in_dict(scores)\n",
    "\n",
    "        save_json(path=Path(self.config.metric_file_name), data=clean_scores)\n"
   ]
  },
  {
   "cell_type": "code",
   "execution_count": 37,
   "id": "d070ece4",
   "metadata": {},
   "outputs": [
    {
     "name": "stdout",
     "output_type": "stream",
     "text": [
      "[2025-04-27 13:21:37,069: INFO: common: yaml file: config\\config.yaml loaded successfully.]\n",
      "[2025-04-27 13:21:37,071: INFO: common: yaml file: params.yaml loaded successfully.]\n",
      "[2025-04-27 13:21:37,079: INFO: common: yaml file: schema.yaml loaded successfully.]\n",
      "[2025-04-27 13:21:37,079: INFO: common: Created directory at: artifacts]\n",
      "[2025-04-27 13:21:37,079: INFO: common: Created directory at: artifacts/model_evaluation]\n",
      "[2025-04-27 13:21:37,377: INFO: common: Json file saved at: artifacts\\model_evaluation\\metrics.json]\n"
     ]
    }
   ],
   "source": [
    "\n",
    "try:\n",
    "    config = ConfigurationManager()\n",
    "    model_evaluation_config = config.get_model_evaluation_config()\n",
    "    model_evaluation_config = ModelEvaluation(config=model_evaluation_config)\n",
    "    model_evaluation_config.eval_model()\n",
    "except Exception as e:\n",
    "    raise e"
   ]
  },
  {
   "cell_type": "code",
   "execution_count": null,
   "id": "859d7c72",
   "metadata": {},
   "outputs": [],
   "source": []
  }
 ],
 "metadata": {
  "kernelspec": {
   "display_name": ".venv",
   "language": "python",
   "name": "python3"
  },
  "language_info": {
   "codemirror_mode": {
    "name": "ipython",
    "version": 3
   },
   "file_extension": ".py",
   "mimetype": "text/x-python",
   "name": "python",
   "nbconvert_exporter": "python",
   "pygments_lexer": "ipython3",
   "version": "3.10.12"
  }
 },
 "nbformat": 4,
 "nbformat_minor": 5
}
